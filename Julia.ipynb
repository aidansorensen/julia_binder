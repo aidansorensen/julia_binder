{
  "cells": [
    {
      "cell_type": "markdown",
      "metadata": {
        "colab_type": "text",
        "id": "view-in-github"
      },
      "source": [
        "<a href=\"https://colab.research.google.com/github/CEASLIBRARY/Introduction-to-Julia/blob/main/Julia.ipynb\" target=\"_parent\"><img src=\"https://colab.research.google.com/assets/colab-badge.svg\" alt=\"Open In Colab\"/></a>"
      ]
    },
    {
      "cell_type": "markdown",
      "metadata": {
        "id": "xEt6HbN0b7q8"
      },
      "source": [
        "<img src=\"https://github.com/JuliaLang/julia-logo-graphics/raw/master/images/julia-logo-color.png\" height=\"150\" align = \"right\"  /> \n",
        "\n",
        "# **Workshop : Introduction to Julia**\n",
        "# *Objectives*\n",
        "* Introduction to Julia \n",
        "  * Basics of Julia :  a brief background.\n",
        "  * Setting up Julia IDE or REPL Environment.\n",
        "* Hands on with Julia\n",
        "   * Variables and Data Types.\n",
        "   * Functions.\n",
        "   * Data Structures.\n",
        "   * Control Flow.\n",
        "\n",
        "# *Future Topics*\n",
        "\n",
        "Variable Scope, Modules, Packages, Plotting, Parallel computing, Code Optimization and Interoperability.\n",
        "   \n",
        "\n",
        "\n",
        "\n",
        "\n",
        "\n"
      ]
    },
    {
      "cell_type": "markdown",
      "metadata": {
        "id": "mopW6FKfHG7h"
      },
      "source": [
        "\n",
        "# **Introduction to Julia**  \n",
        "  Julia has evolved quickly since its inception in 2012.\n",
        "  * Julia user base has grown significantly with high profile users like NASA,  BlackRock, Aviva and INPE.\n",
        "  * Julia is the only programming language to win _James H. Wilkinson Prize for Numerical Software_. \n",
        "  * Julia is general purpose programming language with wide range of applications, including _data science, complex linear algebra, data mining, and machine learning_. \n",
        "  * Multi-paradigm with support for Functional, OOPS with multiple dispatches and Meta-programming.\n",
        "\n",
        "\n",
        "# **Julia _vs._ C++/C _vs._ Python**\n",
        "\n",
        " Julia feels like python but runs like C++/C. In fact Julia gives you an option to write your code with much flexibility. You can code like python or to boost performance you type everything statistically like C++.\n",
        " \n",
        "# **Ways to run Julia**\n",
        "\n",
        "Three ways to run Julia code: \n",
        "  * the first one is through the Julia REPL,\n",
        "  * through the IDE: _Juno , VSCode_, and\n",
        "  * Cloud Platforms: _Colab, Kaggle, CoCalc, Azure etc_.\n",
        "\n",
        "# **Google Colabs Instructions**\n",
        "\n",
        "* Execute the following cell (click on it and press Ctrl+Enter) to install Julia, IJulia and other packages (if needed, update JULIA_VERSION and the other parameters). This takes a couple of minutes.\n",
        "*Reload this page (press Ctrl+R, or ⌘+R, or the F5 key) and continue to the next section.\n",
        "\n",
        "*Notes:*\n",
        "\n",
        "* If your Colab Runtime gets reset (e.g., due to inactivity), repeat steps 2, 3 and 4.\n",
        "* After installation, if you want to change the Julia version or activate/deactivate the GPU, you will need to reset the Runtime: Runtime > Factory reset runtime and repeat steps 3 and 4.\n"
      ]
    },
    {
      "cell_type": "code",
      "execution_count": 3,
      "metadata": {
        "colab": {
          "base_uri": "https://localhost:8080/"
        },
        "id": "OMnAG0sYt8IP",
        "outputId": "0c94ea73-d8a3-48f5-ccf3-5415e866f17f"
      },
      "outputs": [
        {
          "data": {
            "text/plain": []
          },
          "execution_count": 3,
          "metadata": {},
          "output_type": "execute_result"
        }
      ],
      "source": [
        "%%shell\n",
        "set -e\n",
        "\n",
        "#---------------------------------------------------#\n",
        "JULIA_VERSION=\"1.8.2\" # any version ≥ 0.7.0\n",
        "JULIA_PACKAGES=\"IJulia BenchmarkTools Plots\"\n",
        "JULIA_PACKAGES_IF_GPU=\"CUDA\" # or CuArrays for older Julia versions\n",
        "JULIA_NUM_THREADS=2\n",
        "#---------------------------------------------------#\n",
        "\n",
        "if [ -n \"$COLAB_GPU\" ] && [ -z `which julia` ]; then\n",
        "  # Install Julia\n",
        "  JULIA_VER=`cut -d '.' -f -2 <<< \"$JULIA_VERSION\"`\n",
        "  echo \"Installing Julia $JULIA_VERSION on the current Colab Runtime...\"\n",
        "  BASE_URL=\"https://julialang-s3.julialang.org/bin/linux/x64\"\n",
        "  URL=\"$BASE_URL/$JULIA_VER/julia-$JULIA_VERSION-linux-x86_64.tar.gz\"\n",
        "  wget -nv $URL -O /tmp/julia.tar.gz # -nv means \"not verbose\"\n",
        "  tar -x -f /tmp/julia.tar.gz -C /usr/local --strip-components 1\n",
        "  rm /tmp/julia.tar.gz\n",
        "\n",
        "  # Install Packages\n",
        "  if [ \"$COLAB_GPU\" = \"1\" ]; then\n",
        "      JULIA_PACKAGES=\"$JULIA_PACKAGES $JULIA_PACKAGES_IF_GPU\"\n",
        "  fi\n",
        "  for PKG in `echo $JULIA_PACKAGES`; do\n",
        "    echo \"Installing Julia package $PKG...\"\n",
        "    julia -e 'using Pkg; pkg\"add '$PKG'; precompile;\"' &> /dev/null\n",
        "  done\n",
        "\n",
        "  # Install kernel and rename it to \"julia\"\n",
        "  echo \"Installing IJulia kernel...\"\n",
        "  julia -e 'using IJulia; IJulia.installkernel(\"julia\", env=Dict(\n",
        "      \"JULIA_NUM_THREADS\"=>\"'\"$JULIA_NUM_THREADS\"'\"))'\n",
        "  KERNEL_DIR=`julia -e \"using IJulia; print(IJulia.kerneldir())\"`\n",
        "  KERNEL_NAME=`ls -d \"$KERNEL_DIR\"/julia*`\n",
        "  mv -f $KERNEL_NAME \"$KERNEL_DIR\"/julia  \n",
        "\n",
        "  echo ''\n",
        "  echo \"Successfully installed `julia -v`!\"\n",
        "  echo \"Please reload this page (press Ctrl+R, ⌘+R, or the F5 key) then\"\n",
        "  echo \"jump to the 'Checking the Installation' section.\"\n",
        "fi"
      ]
    },
    {
      "cell_type": "markdown",
      "metadata": {
        "id": "SEAHaD9RxiQ2"
      },
      "source": [
        "# Speed Comparison\n",
        "## Python vs Julia\n",
        "\n",
        "* Generaly Python is atleat 1.5 to 2 times faster than python.\n",
        "* But easily this can be significant with speed upto 200-300 times that of python.\n",
        "* Julia has a little more startup time becouse of compilation instead of interpretation. That couse an intial delay.\n",
        "* Julia has a more efficient support for multithreading. "
      ]
    },
    {
      "cell_type": "markdown",
      "metadata": {
        "id": "nbVYyeYqyujw"
      },
      "source": [
        "# lets compare\n",
        "* Julia code is below.\n",
        "* Here is [Python code link](https://colab.research.google.com/drive/1ocZ0znZsiEeHjlHfYjQuxuIJVcbilF_f#scrollTo=-3uIK_-TwKLF).\n",
        "\n",
        "### Thats a significant speed for AI and ML applications where training time is large generally 2-3 days for large practical data. Consider Julia here and a speed up of 300 times. Now your time for 2-3 days come down to 576/864 seconds or ~9.6/14.4 minutes"
      ]
    },
    {
      "cell_type": "code",
      "execution_count": 2,
      "metadata": {
        "colab": {
          "base_uri": "https://localhost:8080/",
          "height": 130
        },
        "id": "981RV9hV0OjM",
        "outputId": "f27bd768-1ce6-43f4-9031-98e46317cd98"
      },
      "outputs": [
        {
          "ename": "SyntaxError",
          "evalue": "ignored",
          "output_type": "error",
          "traceback": [
            "\u001b[0;36m  File \u001b[0;32m\"<ipython-input-2-c1d39f5f59de>\"\u001b[0;36m, line \u001b[0;32m1\u001b[0m\n\u001b[0;31m    using Dates\u001b[0m\n\u001b[0m              ^\u001b[0m\n\u001b[0;31mSyntaxError\u001b[0m\u001b[0;31m:\u001b[0m invalid syntax\n"
          ]
        }
      ],
      "source": [
        "using Dates"
      ]
    },
    {
      "cell_type": "code",
      "execution_count": null,
      "metadata": {
        "id": "g0xY_AzD0auc"
      },
      "outputs": [],
      "source": [
        "function fib(n)\n",
        "  if n<2\n",
        "    return 1\n",
        "  else\n",
        "    return fib(n-1)+fib(n-2)\n",
        "  end\n",
        "end"
      ]
    },
    {
      "cell_type": "code",
      "execution_count": null,
      "metadata": {
        "id": "XakCfxjk0R5m"
      },
      "outputs": [],
      "source": [
        "t1 = now()\n",
        "print(fib(30))\n",
        "t2 = now()\n",
        "println(t2-t1)"
      ]
    },
    {
      "cell_type": "markdown",
      "metadata": {
        "id": "S8PHGPQ8vVXm"
      },
      "source": [
        "# **Variables and Types**"
      ]
    },
    {
      "cell_type": "markdown",
      "metadata": {
        "id": "VGfHpAZ_lq_N"
      },
      "source": [
        "* Julia let you declare a variable without explicitly mention the datatype.\n",
        "* Julia inferred its type based on the value assigned to it\n",
        "<div>\n",
        "     <img src=\"https://github.com/CEASLIBRARY/Introduction-to-Julia/blob/main/enlightenment-symbol.png?raw=1\"  width=\"50\"  />  \n",
        "</div>\n",
        "<div>\n",
        "   <img src=\"https://github.com/CEASLIBRARY/Introduction-to-Julia/blob/main/Datatypes.png?raw=1\"  width=\"500\"  /> <img src=\"https://github.com/CEASLIBRARY/Introduction-to-Julia/blob/main/enlightenment-symbol.png?raw=1\"  width=\"50\"  />  \n",
        " </div>  \n",
        "\n",
        "**From performance point of view, you should not change the datatype after its initialization**"
      ]
    },
    {
      "cell_type": "markdown",
      "metadata": {
        "id": "rFsue829lq_O"
      },
      "source": [
        "# Declaring and Initializing Variables\n",
        "* **Value is a variable name as is assigned a value using = operator**\n",
        "* **Variables in Julia can be declared by just writing their name. There’s no need to define a datatype with it.**"
      ]
    },
    {
      "cell_type": "code",
      "execution_count": null,
      "metadata": {
        "id": "klAmDZrxyIMs"
      },
      "outputs": [],
      "source": [
        "value = 5"
      ]
    },
    {
      "cell_type": "markdown",
      "metadata": {
        "id": "mRLM3Eeilq_Q"
      },
      "source": [
        "## Rules for naming a variable in Julia\n",
        "* Variable names in Julia must start with an underscore, a letter(A-Z or a-z) or a Unicode character greater than 00A0(nbsp).\n",
        "* Variable names can also contain digits(0-9) or !, but must not begin with these.\n",
        "* Operators like (+, ^, etc.) can also be used to name a variable.\n",
        "* Variable names can also be written as words separated by underscore, but that is not a good practice and must be avoided unless necessary.\n",
        "* LaTeX symbols as variable names; Help in succinct and readable mathematic functions"
      ]
    },
    {
      "cell_type": "code",
      "execution_count": null,
      "metadata": {
        "id": "Rrwzz2uOAPXZ"
      },
      "outputs": [],
      "source": [
        "θ = 5\n",
        "Θ = 9\n",
        "ϕ = 9\n",
        "Φ = 23\n",
        "ϵ = 9\n",
        "ζ = 23\n",
        "κ = 23\n",
        "δ = 23\n",
        "Δ  = 23\n"
      ]
    },
    {
      "cell_type": "markdown",
      "metadata": {
        "id": "UK2heEpdlq_V"
      },
      "source": [
        "# Statically Typed *Variable* Names"
      ]
    },
    {
      "cell_type": "code",
      "execution_count": null,
      "metadata": {
        "id": "gNWIQmb7ARce"
      },
      "outputs": [],
      "source": [
        "x = 5::Int64"
      ]
    },
    {
      "cell_type": "code",
      "execution_count": null,
      "metadata": {
        "id": "4Fp7oQ7Tlq_b"
      },
      "outputs": [],
      "source": [
        "print(typemin(Int64),\"\\n\")\n",
        "print(typemax(Int64))"
      ]
    },
    {
      "cell_type": "code",
      "execution_count": null,
      "metadata": {
        "id": "2kdu7dxKlq_c"
      },
      "outputs": [],
      "source": [
        "x = \"345\"::String\n",
        "typeof(x)"
      ]
    },
    {
      "cell_type": "markdown",
      "metadata": {
        "id": "pSxBvLTylq_d",
        "tags": []
      },
      "source": [
        "## Type Conversion\n",
        "* Use _convert function (targettype,variable)_\n",
        "* Always from low to high precision.\n",
        "* Use trunc/floor etc. to get to lower precision."
      ]
    },
    {
      "cell_type": "code",
      "execution_count": null,
      "metadata": {
        "id": "Vkerzsk8lq_d"
      },
      "outputs": [],
      "source": [
        "x = 3\n",
        "println(convert(Float64,x))"
      ]
    },
    {
      "cell_type": "markdown",
      "metadata": {
        "id": "RzsaObe3lq-a"
      },
      "source": [
        "# REPL allows you to execute code line by line\n",
        "\n",
        "**Basic arithmetic operations**\n",
        "* _Number Addition_\n"
      ]
    },
    {
      "cell_type": "code",
      "execution_count": null,
      "metadata": {
        "id": "_gC1mZnylq-d"
      },
      "outputs": [],
      "source": [
        "3+4"
      ]
    },
    {
      "cell_type": "markdown",
      "metadata": {
        "id": "WyklnSlslq-e"
      },
      "source": [
        "* subtraction, addition, multiplication, power, square-root, log etc."
      ]
    },
    {
      "cell_type": "code",
      "execution_count": null,
      "metadata": {
        "id": "nqrBb6oFlq-f"
      },
      "outputs": [],
      "source": [
        "println(4-6)\n",
        "println(4*23)\n",
        "println(4^2)\n",
        "println(√92)\n",
        "println(sqrt(34))\n",
        "println(log(23))\n"
      ]
    },
    {
      "cell_type": "markdown",
      "metadata": {
        "id": "KqoNnCo6lq-h"
      },
      "source": [
        "**Boolean/Logical operators** \n",
        "*  _&, xor, ||, nand_"
      ]
    },
    {
      "cell_type": "code",
      "execution_count": null,
      "metadata": {
        "id": "GD3LpE1Qlq-i"
      },
      "outputs": [],
      "source": [
        "println(true || false)\n",
        "println(true & false)\n",
        "println(xor(true, false))\n",
        "println(nand(true,false))"
      ]
    },
    {
      "cell_type": "markdown",
      "metadata": {
        "id": "evYh7HYllq-j"
      },
      "source": [
        "# Precision\n",
        "* _Float + Int Addition_\n",
        "<div>\n",
        "    <img src=\"https://github.com/CEASLIBRARY/Introduction-to-Julia/blob/main/enlightenment-symbol.png?raw=1\"  width=\"50\"  />\n",
        " </div>    \n",
        "\n",
        "* _Resultant data type is same as highest precision operand_\n",
        " "
      ]
    },
    {
      "cell_type": "code",
      "execution_count": null,
      "metadata": {
        "id": "bhIdmabblq-k"
      },
      "outputs": [],
      "source": [
        "2 + 5.0"
      ]
    },
    {
      "cell_type": "markdown",
      "metadata": {
        "id": "IMych6jplq-m"
      },
      "source": [
        "**Basic Complex Numbers operations**\n",
        "* _Complex Number Addition_"
      ]
    },
    {
      "cell_type": "code",
      "execution_count": null,
      "metadata": {
        "id": "MvTxCaTblq-q"
      },
      "outputs": [],
      "source": [
        "3+4im"
      ]
    },
    {
      "cell_type": "code",
      "execution_count": null,
      "metadata": {
        "id": "B-Xlv0gOlq-s"
      },
      "outputs": [],
      "source": [
        "(3+2im)-(45-23im)"
      ]
    },
    {
      "cell_type": "markdown",
      "metadata": {
        "id": "2pmgSLBHlq-v"
      },
      "source": [
        "**Basic Fractional Numbers operations**\n",
        "* _Fraction Representioan_"
      ]
    },
    {
      "cell_type": "code",
      "execution_count": null,
      "metadata": {
        "id": "ALozDcfQlq-x"
      },
      "outputs": [],
      "source": [
        "3//5"
      ]
    },
    {
      "cell_type": "code",
      "execution_count": null,
      "metadata": {
        "id": "snoxcl2ulq-1"
      },
      "outputs": [],
      "source": [
        "3//5 + 9//2"
      ]
    },
    {
      "cell_type": "code",
      "execution_count": null,
      "metadata": {
        "id": "SsKxrC3ylq-9"
      },
      "outputs": [],
      "source": [
        "34//21 + 9"
      ]
    },
    {
      "cell_type": "markdown",
      "metadata": {
        "id": "MwVVXa57lq_A"
      },
      "source": [
        "**How to know the type of variable**\n",
        "<div>\n",
        "   <img src=\"https://github.com/CEASLIBRARY/Introduction-to-Julia/blob/main/enlightenment-symbol.png?raw=1\"  width=\"50\"  />\n",
        " </div>  \n",
        " \n",
        " _typeof(variable)_ \n",
        "\n",
        "**will let you know the type inferred by Julia**"
      ]
    },
    {
      "cell_type": "code",
      "execution_count": null,
      "metadata": {
        "id": "dKxCwASklq_B"
      },
      "outputs": [],
      "source": [
        "typeof(1)"
      ]
    },
    {
      "cell_type": "code",
      "execution_count": null,
      "metadata": {
        "id": "InHsqoFAlq_E"
      },
      "outputs": [],
      "source": [
        "typeof(34//20 + 9)"
      ]
    },
    {
      "cell_type": "code",
      "execution_count": null,
      "metadata": {
        "id": "hBNDxIFLlq_G"
      },
      "outputs": [],
      "source": [
        "typeof(4+7im)"
      ]
    },
    {
      "cell_type": "markdown",
      "metadata": {
        "id": "SI1XeQc-lq_f"
      },
      "source": [
        "## String to Number Conversion in Julia\n",
        "* Parse function (T::Type, str, base=Int)"
      ]
    },
    {
      "cell_type": "code",
      "execution_count": null,
      "metadata": {
        "id": "NPWqOPR7lq_h"
      },
      "outputs": [],
      "source": [
        "println(parse(Int64,\"23424\",base = 8))\n",
        "println(parse(Int64,\"23424\",base = 10))\n",
        "println(parse(Int64,\"23424\",base = 16))"
      ]
    },
    {
      "cell_type": "markdown",
      "metadata": {
        "id": "_AOMwBhIlq_k"
      },
      "source": [
        "# **String Initialization and Operators**"
      ]
    },
    {
      "cell_type": "code",
      "execution_count": null,
      "metadata": {
        "id": "9c2C-zKWlq_p"
      },
      "outputs": [],
      "source": [
        "x = \"University of Cincinnati\"\n",
        "println(x)\n",
        "println(string(\"sf\"))\n",
        "println(string(\"abc\",\"def\",\"gef\"))"
      ]
    },
    {
      "cell_type": "markdown",
      "metadata": {
        "id": "OWLyB3YNlq_t"
      },
      "source": [
        "## String Indexing, Slicing and Operators\n",
        "\n",
        "* x[1]- first character, x[2] = second character. **Indexing**\n",
        "* x[2:4]- second to fourth character **Slicing**\n",
        "* x[-1]- backward slicing \n",
        "* _*_ Concatenation Operation\n",
        "* ^ repetition\n",
        "* Use _begin_ and _end_ to access string from front and back respectively"
      ]
    },
    {
      "cell_type": "code",
      "execution_count": null,
      "metadata": {
        "id": "HMpEtOF3lq_v"
      },
      "outputs": [],
      "source": [
        "println(x[1],x[15])\n",
        "println(x[3],x[7])\n",
        "println(x[begin:end])\n",
        "println(x[end-2:end-1])\n",
        "println(x[end-9:end])"
      ]
    },
    {
      "cell_type": "markdown",
      "metadata": {
        "id": "QriGo9JvCHcg"
      },
      "source": [
        "# **Comments** \n",
        "* Single Line Comment"
      ]
    },
    {
      "cell_type": "code",
      "execution_count": null,
      "metadata": {
        "id": "J3wsDDnflq_y"
      },
      "outputs": [],
      "source": [
        "#This is Single Line Comment"
      ]
    },
    {
      "cell_type": "markdown",
      "metadata": {
        "id": "wIaI-WUPlq_z"
      },
      "source": [
        "* Multiple Line Comments"
      ]
    },
    {
      "cell_type": "code",
      "execution_count": null,
      "metadata": {
        "id": "JpZ5HpQyAiXm"
      },
      "outputs": [],
      "source": [
        "#= This\n",
        "is\n",
        "mulitple Line\n",
        "Comment\n",
        "=#"
      ]
    },
    {
      "cell_type": "markdown",
      "metadata": {
        "id": "YfTcYznkApt5"
      },
      "source": [
        "# Hands-on  **Variable and Datatype**\n",
        "\n",
        "<div>\n",
        "     <img src=https://github.com/CEASLIBRARY/Introduction-to-Julia/blob/main/Hanson.png?raw=1\"  width=\"100\"  />  \n",
        "</div>"
      ]
    },
    {
      "cell_type": "markdown",
      "metadata": {
        "id": "LH9k7gmRAoqg"
      },
      "source": [
        "### The Rule of 72 applies to cases of compound interest. \n",
        "**Compound interest is calculated on both the initial principal and the accumulated interest of previous periods of a deposit.**\n",
        "* To calculate the time period an investment will double, divide the integer 72 by the expected rate of return. "
      ]
    },
    {
      "cell_type": "code",
      "execution_count": null,
      "metadata": {
        "id": "DJuJIQFBlq_-"
      },
      "outputs": [],
      "source": [
        "# You have 10,000 in you bank account\n",
        "\n",
        "#= Bank Provides you an annual interest rate of 6% =#\n",
        "time = 72/6\n",
        "# Find the time in which your fortune doubles.\n",
        "#12 - 20,000\n",
        "# When Will you become millionaire\n",
        "\n",
        "#24 - 40,000\n",
        "#36 - 80,000\n",
        "#48 - 1,60,000\n",
        "#60 - 3,20,000\n",
        "#72 - 6,40,000\n",
        "#84 - 12,80,000\n",
        "#96 - 25,60,000\n",
        "#108 - 51,20,000\n",
        "#120 - 1,0240,000\n",
        "\n",
        "# When Will you become billionaire\n",
        "\n",
        "#2^time *10000 = 12*time\n",
        "#(72/interest)*t = 2^t*principle\n",
        "\n",
        "#2^t = 1,000,000,000/10,000 = 100,000\n",
        "#t = log(100,000)\n",
        "#time = 100\n",
        "\n"
      ]
    },
    {
      "cell_type": "code",
      "execution_count": null,
      "metadata": {
        "id": "EbQAjjjflrAD"
      },
      "outputs": [],
      "source": [
        "log(2,1000000000/10000)*12"
      ]
    },
    {
      "cell_type": "markdown",
      "metadata": {
        "id": "reuiMdtcvrBm"
      },
      "source": [
        "# **Functions**\n",
        "* #### Operators are _functions_ and written in **infix** notation\n",
        "  * Boolean/Logical. \n",
        "  ### (&,   ||,    xor,   nand)\n",
        "  * Arithmetic. \n",
        "  ### ( +,  -,  /,  *,  √,  ^,  log etc.)"
      ]
    },
    {
      "cell_type": "code",
      "execution_count": null,
      "metadata": {
        "id": "2nIJNSI6lrAF"
      },
      "outputs": [],
      "source": [
        "println(+(3,4))\n",
        "println(/(3,4))\n",
        "println(*(3,4))\n",
        "println(^(3,4))"
      ]
    },
    {
      "cell_type": "markdown",
      "metadata": {
        "id": "3B04_CVSlrAI"
      },
      "source": [
        "\n",
        "## Generic Functions\n",
        "  \n",
        "### **Standard Definition.**\n",
        "  "
      ]
    },
    {
      "cell_type": "code",
      "execution_count": null,
      "metadata": {
        "id": "W4rvs_tYvqRh"
      },
      "outputs": [],
      "source": [
        "function squareroot(a)\n",
        "    return √a\n",
        "end"
      ]
    },
    {
      "cell_type": "code",
      "execution_count": null,
      "metadata": {
        "id": "DTuodY5flrAL"
      },
      "outputs": [],
      "source": [
        "function squareroot(a) ::Float64\n",
        "    return √a\n",
        "end"
      ]
    },
    {
      "cell_type": "markdown",
      "metadata": {
        "id": "cFftTQq-lrAO"
      },
      "source": [
        " ### **Inline Functions.**"
      ]
    },
    {
      "cell_type": "code",
      "execution_count": null,
      "metadata": {
        "id": "l1-PlMywlrAQ"
      },
      "outputs": [],
      "source": [
        "f(x) = x^2 + x + √(x+6x^2)"
      ]
    },
    {
      "cell_type": "code",
      "execution_count": null,
      "metadata": {
        "id": "es6_bmQclrAS"
      },
      "outputs": [],
      "source": [
        "f(y) = [x^2 for x in y]"
      ]
    },
    {
      "cell_type": "code",
      "execution_count": null,
      "metadata": {
        "id": "CJInwD8OlrAT"
      },
      "outputs": [],
      "source": [
        "println(f([2,3,4,5]))"
      ]
    },
    {
      "cell_type": "code",
      "execution_count": null,
      "metadata": {
        "id": "XHG2azyylrAW"
      },
      "outputs": [],
      "source": [
        "f(y) = (x^2 for x in y)"
      ]
    },
    {
      "cell_type": "code",
      "execution_count": null,
      "metadata": {
        "id": "866nD3ZklrAX"
      },
      "outputs": [],
      "source": [
        "println(f([2,3,4,5])...)"
      ]
    },
    {
      "cell_type": "code",
      "execution_count": null,
      "metadata": {
        "id": "NY46OHvalrAZ"
      },
      "outputs": [],
      "source": [
        "∑(x,y) = x+y"
      ]
    },
    {
      "cell_type": "code",
      "execution_count": null,
      "metadata": {
        "id": "MJsw-SPilrAa"
      },
      "outputs": [],
      "source": [
        "factorial!(x::Int64) = x == 1 ? one(x) : factorial!(x-1)*x"
      ]
    },
    {
      "cell_type": "code",
      "execution_count": null,
      "metadata": {
        "id": "cljjcIJNlrAd"
      },
      "outputs": [],
      "source": [
        "factorial!(3::Int64)"
      ]
    },
    {
      "cell_type": "code",
      "execution_count": null,
      "metadata": {
        "id": "06ll2hc7lrAe"
      },
      "outputs": [],
      "source": [
        "fib(n::Integer) = n ≤ 2 ? one(n) : fib(n-1) + fib(n-2)"
      ]
    },
    {
      "cell_type": "markdown",
      "metadata": {
        "id": "4kK85vcglrAg"
      },
      "source": [
        "### **Anonymous/ Lamdba Expressions.**"
      ]
    },
    {
      "cell_type": "code",
      "execution_count": null,
      "metadata": {
        "id": "VpxAWu-4lrAi"
      },
      "outputs": [],
      "source": [
        "x -> x^+2+3x+4"
      ]
    },
    {
      "cell_type": "code",
      "execution_count": null,
      "metadata": {
        "id": "oXcO8p18lrAj"
      },
      "outputs": [],
      "source": [
        "map(x->x^2+2x+4,[1,2,3,4,5])"
      ]
    },
    {
      "cell_type": "code",
      "execution_count": null,
      "metadata": {
        "id": "n49lF1__lrAl"
      },
      "outputs": [],
      "source": [
        "map(x-> x*x*x,[\"1\",\"2\",\"3\",\"4\",\"5\"])"
      ]
    },
    {
      "cell_type": "markdown",
      "metadata": {
        "id": "W-YZzdPSlrAm",
        "tags": []
      },
      "source": [
        "# Hands-on  **Functions**\n",
        "\n",
        "<div>\n",
        "     <img src=https://github.com/CEASLIBRARY/Introduction-to-Julia/blob/main/Hanson.png?raw=1\"  width=\"100\"  />  \n",
        "</div>"
      ]
    },
    {
      "cell_type": "markdown",
      "metadata": {
        "id": "9Q8NWztTlrAn"
      },
      "source": [
        "## Generate Cincinnati word by merging letters[cinat]; you can replicate your substrings\n",
        "\n",
        "* x = 2*(\"cin\") + \"nat\"+i"
      ]
    },
    {
      "cell_type": "code",
      "execution_count": null,
      "metadata": {
        "id": "0WGEkULXlrAo"
      },
      "outputs": [],
      "source": [
        "x = string(string('c','i','n')^2 , string('n','a','t','i'))"
      ]
    },
    {
      "cell_type": "code",
      "execution_count": null,
      "metadata": {
        "id": "hM9LcE1_lrAq"
      },
      "outputs": [],
      "source": [
        "x = \"cinat\"\n",
        "println(x[begin:3]^2*x[3:end]*x[2])"
      ]
    },
    {
      "cell_type": "code",
      "execution_count": null,
      "metadata": {
        "id": "Wa4DjHMBlrAv"
      },
      "outputs": [],
      "source": []
    },
    {
      "cell_type": "markdown",
      "metadata": {
        "id": "LnbKsiN-BPa5"
      },
      "source": [
        "# **Data Structures**\n",
        "\n",
        "  * Arrays and Vectors\n",
        "  * Metrices\n",
        "  * Sets and Tuples"
      ]
    },
    {
      "cell_type": "markdown",
      "metadata": {
        "id": "uK1khyKslrAz"
      },
      "source": [
        "# Creating a 1D array/vector"
      ]
    },
    {
      "cell_type": "code",
      "execution_count": null,
      "metadata": {
        "id": "UL31WKQiA1bm"
      },
      "outputs": [],
      "source": [
        "Array1 = [1, 2, 3, 4]"
      ]
    },
    {
      "cell_type": "code",
      "execution_count": null,
      "metadata": {
        "id": "Vrpm8bURlrA2"
      },
      "outputs": [],
      "source": [
        "Array{Int64}([1, 2, 3,4])"
      ]
    },
    {
      "cell_type": "code",
      "execution_count": null,
      "metadata": {
        "id": "diFc-jlQlrA5"
      },
      "outputs": [],
      "source": [
        "Vector{Int64}([1, 2, 3,4])"
      ]
    },
    {
      "cell_type": "code",
      "execution_count": null,
      "metadata": {
        "id": "AmNqvEnllrA6"
      },
      "outputs": [],
      "source": [
        "println(Array1[begin:end])\n",
        "println(Array1[2])"
      ]
    },
    {
      "cell_type": "markdown",
      "metadata": {
        "id": "6PIHm8sNlrA8"
      },
      "source": [
        "# Creating a 2D array\n"
      ]
    },
    {
      "cell_type": "code",
      "execution_count": null,
      "metadata": {
        "id": "KTj9TejylrBC"
      },
      "outputs": [],
      "source": [
        "Array2 = [1 2 3; 4 5 6]"
      ]
    },
    {
      "cell_type": "code",
      "execution_count": null,
      "metadata": {
        "id": "0Ym6X8yMlrBE"
      },
      "outputs": [],
      "source": [
        "println(Array2[begin:end])\n",
        "println(Array2[5])\n",
        "println(Array2[1,3])"
      ]
    },
    {
      "cell_type": "markdown",
      "metadata": {
        "id": "NsZjNLhClrBG"
      },
      "source": [
        "# Creating a 3D array\n",
        "## using 'cat' command"
      ]
    },
    {
      "cell_type": "code",
      "execution_count": null,
      "metadata": {
        "id": "0fb5QiSxlrBI"
      },
      "outputs": [],
      "source": [
        "Array3 = cat([1 2; 3 4], [5 6; 7 8], [2 2; 3 4], dims = 3)"
      ]
    },
    {
      "cell_type": "code",
      "execution_count": null,
      "metadata": {
        "id": "WXadoZj1lrBJ"
      },
      "outputs": [],
      "source": [
        "println(Array3[begin:end])\n",
        "println(Array3[5])\n",
        "println(Array3[1,2,1])"
      ]
    },
    {
      "cell_type": "markdown",
      "metadata": {
        "id": "oZtvlv5flrBM"
      },
      "source": [
        "# Sets"
      ]
    },
    {
      "cell_type": "markdown",
      "metadata": {
        "id": "gBntNbtllrBN"
      },
      "source": [
        "**Creating an empty set**"
      ]
    },
    {
      "cell_type": "code",
      "execution_count": null,
      "metadata": {
        "id": "L4fz7JtnlrBR"
      },
      "outputs": [],
      "source": [
        "Set1 = Set()\n",
        "println(\"Empty Set: \", Set1)"
      ]
    },
    {
      "cell_type": "markdown",
      "metadata": {
        "id": "AiAxDt-dlrBT"
      },
      "source": [
        "**Creating a set with Integer values**"
      ]
    },
    {
      "cell_type": "code",
      "execution_count": null,
      "metadata": {
        "id": "1-hZXAVrlrBU"
      },
      "outputs": [],
      "source": [
        "Set2 = Set([1, 2, 3, 4, 5, 2, 4, 6])\n",
        "println(Set2)"
      ]
    },
    {
      "cell_type": "markdown",
      "metadata": {
        "id": "QrR8nB1rlrBW"
      },
      "source": [
        "**Creating a set with mixed datatypes**"
      ]
    },
    {
      "cell_type": "code",
      "execution_count": null,
      "metadata": {
        "id": "qIBWoNH7lrBX"
      },
      "outputs": [],
      "source": [
        "Set3 = Set([1, 2, 3, \"Hello\", \"Cincy\"])\n",
        "println(Set3)\n",
        "println(union(Set1,Set2,Set3))\n",
        "println(intersect(Set1,Set2,Set3))"
      ]
    },
    {
      "cell_type": "markdown",
      "metadata": {
        "id": "xM0lyjOLlrBZ"
      },
      "source": [
        "# Creating a Tuple"
      ]
    },
    {
      "cell_type": "code",
      "execution_count": null,
      "metadata": {
        "id": "9Qor7tnClrBa"
      },
      "outputs": [],
      "source": [
        "x = (2,3,4,5)"
      ]
    },
    {
      "cell_type": "code",
      "execution_count": null,
      "metadata": {
        "id": "Y4V52Cf7lrBc"
      },
      "outputs": [],
      "source": [
        "f(x,y,z,w) = x+y+z+w"
      ]
    },
    {
      "cell_type": "code",
      "execution_count": null,
      "metadata": {
        "id": "W5rEwm9YlrBd"
      },
      "outputs": [],
      "source": [
        "println(f((9,53,4,5)...))\n",
        "f(x...)\n"
      ]
    },
    {
      "cell_type": "markdown",
      "metadata": {
        "id": "47dNmSDtlrBh"
      },
      "source": [
        "# Hands-on  **Data Structures**\n",
        "\n",
        "<div>\n",
        "     <img src=https://github.com/CEASLIBRARY/Introduction-to-Julia/blob/main/Hanson.png?raw=1\"  width=\"100\"  />  \n",
        "</div>"
      ]
    },
    {
      "cell_type": "markdown",
      "metadata": {
        "id": "VhHbNq8PlrBi"
      },
      "source": [
        "In a group of 50 people, 35 speak Hindi, 25 speak both English and Hindi, and all people speak at least one of the two languages. How many people speak only Hindi and not English?\n",
        "* Create a set of tuples.\n",
        "* Each tuple represent a name and language of person. \n",
        "* Sohewhat like this [(Andrew,English),(Natasha, Hindi), (Phil, English-Hindi) ... So on]\n",
        "* Use conditional statements on data structures to identify the specific people."
      ]
    },
    {
      "cell_type": "markdown",
      "metadata": {
        "id": "POrlb8uelrBj"
      },
      "source": [
        "# **Conditional Evaluation**"
      ]
    },
    {
      "cell_type": "code",
      "execution_count": null,
      "metadata": {
        "id": "V9RjU4RulrBl"
      },
      "outputs": [],
      "source": [
        "x = 9\n",
        "if x >= 0\n",
        "    \"whole number\"\n",
        "else\n",
        "    \"-ve Number\"\n",
        "end"
      ]
    },
    {
      "cell_type": "code",
      "execution_count": null,
      "metadata": {
        "id": "2c63EmgIlrBq"
      },
      "outputs": [],
      "source": [
        "x = 9\n",
        "if mod(x,2) == 0\n",
        "    \"Even number\"\n",
        "elseif x==0\n",
        "     \"zero\"\n",
        "else\n",
        "     \"Odd Number\"\n",
        "end"
      ]
    },
    {
      "cell_type": "markdown",
      "metadata": {
        "id": "Qc0I2lvWlrBs"
      },
      "source": [
        "## **Ternary Operator**"
      ]
    },
    {
      "cell_type": "code",
      "execution_count": null,
      "metadata": {
        "id": "LiSzu8uwlrBv"
      },
      "outputs": [],
      "source": [
        "println(3>4 ? 23 : 45)\n",
        "println(30>14 ? 23 : 45)"
      ]
    },
    {
      "cell_type": "markdown",
      "metadata": {
        "id": "ZONJNaG9xPYv"
      },
      "source": [
        "# **Control Flow**\n",
        "\n",
        "### For Loops\n"
      ]
    },
    {
      "cell_type": "code",
      "execution_count": null,
      "metadata": {
        "id": "9LWvLOt9lrB3"
      },
      "outputs": [],
      "source": [
        "for x in [1,2,3,4,5]\n",
        "    print(x,\" \")\n",
        "end"
      ]
    },
    {
      "cell_type": "code",
      "execution_count": null,
      "metadata": {
        "id": "1lnQVbYnlrB5"
      },
      "outputs": [],
      "source": [
        "for x in 2:10\n",
        "    print(x,\" \")\n",
        "end"
      ]
    },
    {
      "cell_type": "code",
      "execution_count": null,
      "metadata": {
        "id": "HjFzgc8j_RcQ"
      },
      "outputs": [],
      "source": [
        "for x in 5:2:10\n",
        "  print(x)\n",
        "end"
      ]
    },
    {
      "cell_type": "code",
      "execution_count": null,
      "metadata": {
        "id": "3C7QcfQGlrB8"
      },
      "outputs": [],
      "source": [
        "for y in range(0, stop=3, length=5)\n",
        "    print(y,\", \\n\")\n",
        "end"
      ]
    },
    {
      "cell_type": "markdown",
      "metadata": {
        "id": "zJ9YKsWtlrB-"
      },
      "source": [
        "## Nested Statements as cartesian product"
      ]
    },
    {
      "cell_type": "code",
      "execution_count": null,
      "metadata": {
        "id": "nhZm2hZqlrCD"
      },
      "outputs": [],
      "source": [
        "for i = 3:5, j = 1:4\n",
        "    print((i, j))\n",
        "end"
      ]
    },
    {
      "cell_type": "markdown",
      "metadata": {
        "id": "1a1SdwmAlrCG"
      },
      "source": [
        "### While Loops\n"
      ]
    },
    {
      "cell_type": "code",
      "execution_count": null,
      "metadata": {
        "id": "3kNX0HLslrCH"
      },
      "outputs": [],
      "source": [
        "x = Array{Int64}([1,2,3,4,5])\n",
        "i = 1\n",
        "while i <= length(x)\n",
        "    println(x[i])\n",
        "    i = i + 1\n",
        "end"
      ]
    },
    {
      "cell_type": "markdown",
      "metadata": {
        "id": "OOirl7RVlrCJ"
      },
      "source": [
        "## Iterators for Lists"
      ]
    },
    {
      "cell_type": "code",
      "execution_count": null,
      "metadata": {
        "id": "f54nZondlrCL"
      },
      "outputs": [],
      "source": [
        "for y in Iterators.reverse(x)\n",
        "    print(y)\n",
        "end"
      ]
    },
    {
      "cell_type": "markdown",
      "metadata": {
        "id": "WGPRsPhTAFBz"
      },
      "source": [
        "# Hands On with Conditional Statements and Control Flow\n",
        "<div>\n",
        "     <img src=https://github.com/CEASLIBRARY/Introduction-to-Julia/blob/main/Hanson.png?raw=1\"  width=\"100\"  />  \n",
        "</div>"
      ]
    },
    {
      "cell_type": "markdown",
      "metadata": {
        "id": "PdbfL9zZC_Os"
      },
      "source": [
        "**Check whether a string is a palindrome or not?**\n",
        "\n",
        "\"Madam, I'm Adam\", and \n",
        "\"a nut for a jar of tuna.\" "
      ]
    },
    {
      "cell_type": "code",
      "execution_count": null,
      "metadata": {
        "id": "X2bMWvaaDDhN"
      },
      "outputs": [],
      "source": []
    },
    {
      "cell_type": "markdown",
      "metadata": {
        "id": "Dgdo044QlrCU"
      },
      "source": [
        "# For more on Julia visit online resources\n",
        "* [Official Documentation at julialang.org](https://docs.julialang.org/en/v1/)\n",
        "* [UC Irvin: Julia in Depth for data Scientists](http://ucidatascienceinitiative.github.io/IntroToJulia/)\n"
      ]
    },
    {
      "cell_type": "markdown",
      "metadata": {
        "id": "eCPv-6AIExoP"
      },
      "source": [
        "# Interesting Links and News\n",
        "\n",
        "\n",
        "*   Programming Basics\n",
        "    * Intangible Side of Programming\n",
        "      * Critical Thinking : [Coding develops CT](https://thesassway.com/what-is-critical-thinking-in-computer-science/)\n",
        "      * Mathamatics : [Computational Programming](https://www.quantamagazine.org/computing-expert-says-programmers-need-more-math-20220517/)\n",
        "      * Logical Development : [How to Think Logically](https://www.geeksforgeeks.org/i-cant-use-logic-in-programming-what-should-i-do/)\n",
        "      * Art of articulating your mind : [putting thoughts into words](https://milesberry.net/2021/11/practical-programming/)\n",
        "    * Tangible Side of Programming\n",
        "      * Syntax Learning : [Grammer](https://pgrandinetti.github.io/compilers/page/what-is-a-programming-language-grammar/#:~:text=A%20Programming%20Language%20Grammar%20is,statements%20(also%20called%20sentences).)\n",
        "      * Programming Constructs : [Sentence Formation](https://cgi.csc.liv.ac.uk/~frans/OldLectures/2CS45/progCons/progCons.html)\n",
        "      * Program Flow : [Control Flow](https://en.wikipedia.org/wiki/Control_flow)\n",
        "      * Programming Features : [Writing Style](https://scoutapm.com/blog/functional-vs-procedural-vs-oop)"
      ]
    },
    {
      "cell_type": "markdown",
      "metadata": {
        "id": "x5nRI3OqFKhP"
      },
      "source": [
        "# Upcoming Julia Workshop\n",
        "* **Julia for Mathematician : Functions and Plots**\n",
        "* **Data Visualization with Julia**"
      ]
    }
  ],
  "metadata": {
    "colab": {
      "collapsed_sections": [],
      "include_colab_link": true,
      "name": "Julia.ipynb",
      "provenance": []
    },
    "gpuClass": "standard",
    "kernelspec": {
      "display_name": "Julia 1.7.2",
      "language": "julia",
      "name": "julia-1.7"
    },
    "language_info": {
      "file_extension": ".jl",
      "mimetype": "application/julia",
      "name": "julia",
      "version": "1.7.2"
    }
  },
  "nbformat": 4,
  "nbformat_minor": 0
}
